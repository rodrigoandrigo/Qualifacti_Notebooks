{
 "cells": [
  {
   "cell_type": "code",
   "execution_count": null,
   "metadata": {},
   "outputs": [],
   "source": [
    "import cv2"
   ]
  },
  {
   "cell_type": "code",
   "execution_count": null,
   "metadata": {},
   "outputs": [],
   "source": [
    "metodo1 = int(input(\"Escolha o metodo de reconhecimento facial \\n 1 para classificadorEigen \\n 2 para classificadorFisher \\n 3 para classificadorLBPH \\n \"))\n",
    "\n",
    "mtd1 = True\n",
    "while mtd1:\n",
    "    if metodo1 != 1 and metodo1 != 2 and metodo1 != 3:\n",
    "        print(\"Escolha inválida.\")\n",
    "        int(input(\"Escolha o metodo de reconhecimento facial \\n 1 para classificadorEigen \\n 2 para classificadorFisher \\n 3 para classificadorLBPH \\n \"))\n",
    "    elif metodo1 == 1 or metodo1 == 2 or metodo1 == 3:\n",
    "        if metodo1 == 1:\n",
    "            detectorFace = cv2.CascadeClassifier(\"Material_complementar/cascades/haarcascade_frontalface_default.xml\") # uso do haarcascade pora detectar face\n",
    "            reconhecedor = cv2.face.EigenFaceRecognizer.create() # traz a função do reconhecedor Eigenface\n",
    "            reconhecedor.read('Material_complementar/cascades/classificadorEigen.yml') # traz o classificador treinado\n",
    "        elif metodo1 == 2:\n",
    "            detectorFace = cv2.CascadeClassifier(\"Material_complementar/cascades/haarcascade_frontalface_default.xml\") # uso do haarcascade pora detectar face\n",
    "            reconhecedor = cv2.face.FisherFaceRecognizer.create() # traz a função do reconhecedor Fisherface\n",
    "            reconhecedor.read('Material_complementar/cascades/classificadorFisher.yml') # traz o classificador treinado\n",
    "        elif metodo1 == 2:\n",
    "            detectorFace = cv2.CascadeClassifier(\"Material_complementar/cascades/haarcascade_frontalface_default.xml\") # uso do haarcascade pora detectar face\n",
    "            reconhecedor = cv2.face.LBPHFaceRecognizer.create() # traz a função do reconhecedor LBPGF\n",
    "            reconhecedor.read('Material_complementar/cascades/classificadorLBPH.yml') # traz o classificador treinado\n",
    "        mtd1 = False"
   ]
  },
  {
   "cell_type": "code",
   "execution_count": null,
   "metadata": {},
   "outputs": [],
   "source": [
    "largura, altura = 200, 200 # dimensão da imagem\n",
    "font = cv2.FONT_HERSHEY_COMPLEX_SMALL # tipo de letra\n",
    "camera = cv2.VideoCapture(0) # inicia a webcam para realizar o reconhecimento baseado no classificador"
   ]
  },
  {
   "cell_type": "code",
   "execution_count": null,
   "metadata": {},
   "outputs": [],
   "source": [
    "while True:\n",
    "    conectado, imagem = camera.read() # realiza a leitura pela webcam\n",
    "    imagemCinza = cv2.cvtColor(imagem, cv2.COLOR_BGR2GRAY) # transfoma a imagem em escala de cinza\n",
    "    facesDetectadas = detectorFace.detectMultiScale(imagemCinza, scaleFactor=1.5, minSize=(30, 30)) # detecta a face encontrada\n",
    "\n",
    "    for (x, y, l, a) in facesDetectadas:\n",
    "        imagemFace = cv2.resize(imagemCinza[y:y + a, x:x + l], (largura, altura)) # redimensiona o tamanha da imagem capturada\n",
    "        cv2.rectangle(imagem, (x, y), (x + l, y + a), (0, 0, 255), 2) # desenha o retângulo da detecção\n",
    "        id, confianca = reconhecedor.predict(imagemFace) # realiza a predição do reconhecimento\n",
    "        nome = \"\"\n",
    "        if id == 1:\n",
    "            nome = 'sem macara' # reconhecimento sem uso de máscara, conforme reconhecedor\n",
    "        elif id == 2:\n",
    "            nome = 'com mascara' # reconhecimento com uso de máscara, conforme reconhecedor\n",
    "        cv2.putText(imagem, nome, (x, y + (a + 40)), font, 2, (0, 0, 255)) # escreve o texto do reconhecimento\n",
    "        cv2.putText(imagem, str(confianca), (x, y + (a + 60)), font, 1, (0, 0, 255)) # escreve o texto do intervalo de confiança\n",
    "\n",
    "    cv2.imshow(\"Face\", imagem) # mostra o título da janela\n",
    "    if cv2.waitKey(1) == ord('q'): # interrompe apertando a tecla Q\n",
    "        break\n",
    "\n",
    "camera.release()\n",
    "cv2.destroyAllWindows()\n",
    "\n",
    "\n",
    "# Não consegui testar o Fisherface pois ocorria erro em fisherface.train(faces, ids) "
   ]
  }
 ],
 "metadata": {
  "language_info": {
   "name": "python"
  }
 },
 "nbformat": 4,
 "nbformat_minor": 2
}
